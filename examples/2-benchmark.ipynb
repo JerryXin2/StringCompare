{
 "cells": [
  {
   "cell_type": "markdown",
   "metadata": {},
   "source": [
    "# Performance Benchmark"
   ]
  },
  {
   "cell_type": "markdown",
   "metadata": {},
   "source": [
    "This notebook benchmarks **StringCompare** against four other string comparison libraries, namely [jellyfish](https://github.com/jamesturk/jellyfish), [py_stringmatching](https://github.com/anhaidgroup/py_stringmatching), [textdistance](https://github.com/life4/textdistance), and [python-levenshtein](https://pypi.org/project/python-Levenshtein/).\n",
    "\n",
    "We evaluate the performance of string metrics when doing the 250,000 all-to-all comparisons among a list of 500 business names taken from the [Registre des entreprises du Québec](https://www.registreentreprises.gouv.qc.ca).\n",
    "\n",
    "Overall python-levenshtein is the fastest with its efficient CPython implementation. However the library has a more limited scope. **StringCompare** comes second in terms of speed."
   ]
  },
  {
   "cell_type": "markdown",
   "metadata": {},
   "source": [
    "## Benchmark"
   ]
  },
  {
   "cell_type": "markdown",
   "metadata": {},
   "source": [
    "First let's load required packages and the business names dataset."
   ]
  },
  {
   "cell_type": "code",
   "execution_count": 1,
   "metadata": {},
   "outputs": [],
   "source": [
    "import pandas as pd\n",
    "import numpy as np\n",
    "import timeit\n",
    "\n",
    "import stringcompare\n",
    "import jellyfish\n",
    "import py_stringmatching\n",
    "import textdistance\n",
    "import Levenshtein\n",
    "\n",
    "names = pd.read_csv(\"data/REQ-names.csv\", header=None)[0].values"
   ]
  },
  {
   "cell_type": "markdown",
   "metadata": {},
   "source": [
    "Next we define the string metrics under consideration and put them in a tidy dataframe."
   ]
  },
  {
   "cell_type": "code",
   "execution_count": 2,
   "metadata": {},
   "outputs": [],
   "source": [
    "functions = {\n",
    "    'stringcompare': {\n",
    "        'Levenshtein': stringcompare.Levenshtein().compare,\n",
    "        'Damerau-Levenshtein': stringcompare.DamerauLevenshtein().compare,\n",
    "        'Jaro': stringcompare.Jaro().compare,\n",
    "        'Jaro-Winkler': stringcompare.JaroWinkler().compare,\n",
    "        #'LCSDistance': stringcompare.LCSDistance(),\n",
    "        #'CharacterDifference': stringcompare.CharacterDifference(),\n",
    "        'Hamming': stringcompare.Hamming().compare,\n",
    "    },\n",
    "    'jellyfish': {\n",
    "        'Levenshtein': jellyfish.levenshtein_distance,\n",
    "        'Damerau-Levenshtein': jellyfish.damerau_levenshtein_distance,\n",
    "        'Jaro': jellyfish.jaro_distance,\n",
    "        'Jaro-Winkler': jellyfish.jaro_winkler,\n",
    "        'Hamming': jellyfish.hamming_distance,\n",
    "    },\n",
    "    'py_stringmatching': {\n",
    "        'Levenshtein': py_stringmatching.Levenshtein().get_raw_score,\n",
    "        'Jaro': py_stringmatching.Jaro().get_raw_score,\n",
    "        'Jaro-Winkler': py_stringmatching.Jaro().get_raw_score,\n",
    "    },\n",
    "    'Levenshtein': {\n",
    "        'Levenshtein': Levenshtein.distance,\n",
    "        'Jaro': Levenshtein.jaro,\n",
    "        'Jaro-Winkler': Levenshtein.jaro_winkler,\n",
    "    },\n",
    "    'textdistance': {\n",
    "        'Levenshtein': textdistance.levenshtein,\n",
    "        'Damerau-Levenshtein': textdistance.damerau_levenshtein,\n",
    "        'Jaro': textdistance.jaro,\n",
    "        'Jaro-Winkler': textdistance.jaro_winkler,\n",
    "        'Hamming': textdistance.hamming,\n",
    "    }\n",
    "}\n",
    "\n",
    "data = (\n",
    "    pd.DataFrame.from_dict(functions)\n",
    "    .melt(ignore_index=False, var_name=\"package\", value_name=\"callable\")\n",
    "    .reset_index()\n",
    "    .rename(columns={'index':'function'})\n",
    ")"
   ]
  },
  {
   "cell_type": "markdown",
   "metadata": {},
   "source": [
    "Finally, we time execution for pairwise comparisons in the `names` dataset."
   ]
  },
  {
   "cell_type": "code",
   "execution_count": 3,
   "metadata": {},
   "outputs": [],
   "source": [
    "def time(function):\n",
    "    if pd.isna(function):\n",
    "        return pd.NA\n",
    "    return timeit.timeit(lambda: [function(s, t) for s in names for t in names], number=1)\n",
    "\n",
    "data = data.assign(time=lambda data: [time(x.callable) for _, x in data.iterrows()])"
   ]
  },
  {
   "cell_type": "markdown",
   "metadata": {},
   "source": [
    "Results are shown below (times are in seconds):"
   ]
  },
  {
   "cell_type": "code",
   "execution_count": 4,
   "metadata": {},
   "outputs": [
    {
     "data": {
      "text/html": [
       "<style type=\"text/css\">\n",
       "#T_dbca7_row0_col3, #T_dbca7_row1_col1, #T_dbca7_row2_col0, #T_dbca7_row3_col0, #T_dbca7_row4_col0 {\n",
       "  background-color: yellow;\n",
       "}\n",
       "</style>\n",
       "<table id=\"T_dbca7_\">\n",
       "  <caption>Run time (seconds) for 250,000 comparisons</caption>\n",
       "  <thead>\n",
       "    <tr>\n",
       "      <th class=\"index_name level0\" >package</th>\n",
       "      <th class=\"col_heading level0 col0\" >Levenshtein</th>\n",
       "      <th class=\"col_heading level0 col1\" >jellyfish</th>\n",
       "      <th class=\"col_heading level0 col2\" >py_stringmatching</th>\n",
       "      <th class=\"col_heading level0 col3\" >stringcompare</th>\n",
       "      <th class=\"col_heading level0 col4\" >textdistance</th>\n",
       "    </tr>\n",
       "    <tr>\n",
       "      <th class=\"index_name level0\" >function</th>\n",
       "      <th class=\"blank col0\" >&nbsp;</th>\n",
       "      <th class=\"blank col1\" >&nbsp;</th>\n",
       "      <th class=\"blank col2\" >&nbsp;</th>\n",
       "      <th class=\"blank col3\" >&nbsp;</th>\n",
       "      <th class=\"blank col4\" >&nbsp;</th>\n",
       "    </tr>\n",
       "  </thead>\n",
       "  <tbody>\n",
       "    <tr>\n",
       "      <th id=\"T_dbca7_level0_row0\" class=\"row_heading level0 row0\" >Damerau-Levenshtein</th>\n",
       "      <td id=\"T_dbca7_row0_col0\" class=\"data row0 col0\" ><NA></td>\n",
       "      <td id=\"T_dbca7_row0_col1\" class=\"data row0 col1\" >0.964083</td>\n",
       "      <td id=\"T_dbca7_row0_col2\" class=\"data row0 col2\" ><NA></td>\n",
       "      <td id=\"T_dbca7_row0_col3\" class=\"data row0 col3\" >0.654239</td>\n",
       "      <td id=\"T_dbca7_row0_col4\" class=\"data row0 col4\" >1.756962</td>\n",
       "    </tr>\n",
       "    <tr>\n",
       "      <th id=\"T_dbca7_level0_row1\" class=\"row_heading level0 row1\" >Hamming</th>\n",
       "      <td id=\"T_dbca7_row1_col0\" class=\"data row1 col0\" ><NA></td>\n",
       "      <td id=\"T_dbca7_row1_col1\" class=\"data row1 col1\" >0.028350</td>\n",
       "      <td id=\"T_dbca7_row1_col2\" class=\"data row1 col2\" ><NA></td>\n",
       "      <td id=\"T_dbca7_row1_col3\" class=\"data row1 col3\" >0.057761</td>\n",
       "      <td id=\"T_dbca7_row1_col4\" class=\"data row1 col4\" >1.182548</td>\n",
       "    </tr>\n",
       "    <tr>\n",
       "      <th id=\"T_dbca7_level0_row2\" class=\"row_heading level0 row2\" >Jaro</th>\n",
       "      <td id=\"T_dbca7_row2_col0\" class=\"data row2 col0\" >0.133745</td>\n",
       "      <td id=\"T_dbca7_row2_col1\" class=\"data row2 col1\" >0.664282</td>\n",
       "      <td id=\"T_dbca7_row2_col2\" class=\"data row2 col2\" >1.414412</td>\n",
       "      <td id=\"T_dbca7_row2_col3\" class=\"data row2 col3\" >0.380440</td>\n",
       "      <td id=\"T_dbca7_row2_col4\" class=\"data row2 col4\" >1.072896</td>\n",
       "    </tr>\n",
       "    <tr>\n",
       "      <th id=\"T_dbca7_level0_row3\" class=\"row_heading level0 row3\" >Jaro-Winkler</th>\n",
       "      <td id=\"T_dbca7_row3_col0\" class=\"data row3 col0\" >0.135197</td>\n",
       "      <td id=\"T_dbca7_row3_col1\" class=\"data row3 col1\" >0.669359</td>\n",
       "      <td id=\"T_dbca7_row3_col2\" class=\"data row3 col2\" >1.439440</td>\n",
       "      <td id=\"T_dbca7_row3_col3\" class=\"data row3 col3\" >0.389522</td>\n",
       "      <td id=\"T_dbca7_row3_col4\" class=\"data row3 col4\" >1.116733</td>\n",
       "    </tr>\n",
       "    <tr>\n",
       "      <th id=\"T_dbca7_level0_row4\" class=\"row_heading level0 row4\" >Levenshtein</th>\n",
       "      <td id=\"T_dbca7_row4_col0\" class=\"data row4 col0\" >0.285682</td>\n",
       "      <td id=\"T_dbca7_row4_col1\" class=\"data row4 col1\" >0.447478</td>\n",
       "      <td id=\"T_dbca7_row4_col2\" class=\"data row4 col2\" >7.610209</td>\n",
       "      <td id=\"T_dbca7_row4_col3\" class=\"data row4 col3\" >0.401512</td>\n",
       "      <td id=\"T_dbca7_row4_col4\" class=\"data row4 col4\" >1.001240</td>\n",
       "    </tr>\n",
       "  </tbody>\n",
       "</table>\n"
      ],
      "text/plain": [
       "<pandas.io.formats.style.Styler at 0x7f289539d910>"
      ]
     },
     "execution_count": 4,
     "metadata": {},
     "output_type": "execute_result"
    }
   ],
   "source": [
    "(\n",
    "    data\n",
    "    .drop(columns=\"callable\")\n",
    "    .pivot(index=\"function\", columns=\"package\", values=\"time\")\n",
    "    .style\n",
    "    .highlight_min(axis=1)\n",
    "    .set_caption(\"Run time (seconds) for 250,000 comparisons\")\n",
    ")"
   ]
  }
 ],
 "metadata": {
  "interpreter": {
   "hash": "de6d8476f6e3bbb6c90656f4c9fef573803d406133e40deedea6104c9171bc99"
  },
  "kernelspec": {
   "display_name": "Python 3.7.9 ('stringcompare')",
   "language": "python",
   "name": "python3"
  },
  "language_info": {
   "codemirror_mode": {
    "name": "ipython",
    "version": 3
   },
   "file_extension": ".py",
   "mimetype": "text/x-python",
   "name": "python",
   "nbconvert_exporter": "python",
   "pygments_lexer": "ipython3",
   "version": "3.7.9"
  },
  "orig_nbformat": 4
 },
 "nbformat": 4,
 "nbformat_minor": 2
}
